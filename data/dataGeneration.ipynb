{
 "cells": [
  {
   "cell_type": "code",
   "execution_count": 8,
   "metadata": {
    "collapsed": false,
    "scrolled": true
   },
   "outputs": [],
   "source": [
    "import numpy as np\n",
    "import matplotlib.pyplot as plt\n",
    "import scipy.misc\n",
    "from PIL import Image, ImageFilter, ImageChops, ImageOps\n",
    "import os\n",
    "import re"
   ]
  },
  {
   "cell_type": "code",
   "execution_count": null,
   "metadata": {
    "collapsed": true
   },
   "outputs": [],
   "source": [
    "counter = 3036\n",
    "image_array = np.array(Image.open('p04.jpg'))\n",
    "print('original image shape (%d, %d)' % (image_array.shape[0], image_array.shape[1]))\n",
    "\n",
    "for i in range(0, 23):\n",
    "    increment = 0\n",
    "    x_start = 4 + i * 51\n",
    "    x_end = x_start + 48\n",
    "    if i <= 5:\n",
    "        y = 32\n",
    "    else:\n",
    "        y = 31\n",
    "    for j in range(0, y):\n",
    "        counter += 1\n",
    "        if j < 12:\n",
    "            y_start = 0 + j * 43\n",
    "            y_end = y_start + 48\n",
    "        if j >=12 and j < 23:\n",
    "            increment += 1\n",
    "            y_start = 0 + j * 43 + increment\n",
    "            y_end = y_start + 48\n",
    "        if j >= 23:\n",
    "            y_start = 0 + j * 43 + increment\n",
    "            y_end = y_start + 48\n",
    "        image = image_array[y_start:y_end, x_start:x_end]\n",
    "        im = Image.fromarray(image)\n",
    "        im.save(\"SingleChar/%d.jpg\" %counter)\n",
    "print('counted:%d'%counter)\n",
    "#     plt.subplot(8, 6, j)\n",
    "#     plt.imshow(image, cmap='gray')\n",
    "# plt.show()"
   ]
  },
  {
   "cell_type": "code",
   "execution_count": 10,
   "metadata": {
    "collapsed": false
   },
   "outputs": [],
   "source": [
    "in_dir = 'chars_orig/'\n",
    "out_dir = 'chars_reverted/'\n",
    "img_names = os.listdir(in_dir)\n",
    "is_jpg = re.compile(r'.+?\\.jpg')\n",
    "\n",
    "# grayscale invert\n",
    "for name in img_names:\n",
    "    if(is_jpg.match(name)):\n",
    "        image = Image.open(in_dir + name)\n",
    "        inverted_image = ImageOps.invert(image)\n",
    "        inverted_image.save(out_dir + name)"
   ]
  },
  {
   "cell_type": "code",
   "execution_count": null,
   "metadata": {
    "collapsed": true
   },
   "outputs": [],
   "source": []
  }
 ],
 "metadata": {
  "kernelspec": {
   "display_name": "Python 3",
   "language": "python",
   "name": "python3"
  },
  "language_info": {
   "codemirror_mode": {
    "name": "ipython",
    "version": 3
   },
   "file_extension": ".py",
   "mimetype": "text/x-python",
   "name": "python",
   "nbconvert_exporter": "python",
   "pygments_lexer": "ipython3",
   "version": "3.5.1"
  }
 },
 "nbformat": 4,
 "nbformat_minor": 1
}
